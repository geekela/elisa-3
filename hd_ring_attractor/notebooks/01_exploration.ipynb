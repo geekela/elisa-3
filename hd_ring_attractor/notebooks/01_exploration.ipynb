{
 "cells": [
  {
   "cell_type": "markdown",
   "metadata": {},
   "source": [
    "# Head Direction Ring Attractor - Exploration\n",
    "\n",
    "Initial exploration and data visualization"
   ]
  },
  {
   "cell_type": "code",
   "execution_count": 3,
   "metadata": {},
   "outputs": [
    {
     "name": "stdout",
     "output_type": "stream",
     "text": [
      "Using CUDA GPU: NVIDIA GeForce RTX 4070 Ti SUPER\n",
      "Device: cuda\n"
     ]
    }
   ],
   "source": [
    "# Test GPU availability\n",
    "import torch\n",
    "import numpy as np\n",
    "\n",
    "# Check for Apple Silicon GPU (MPS)\n",
    "if torch.backends.mps.is_available():\n",
    "    device = torch.device(\"mps\")\n",
    "    print(\"Using Apple Silicon GPU (MPS)\")\n",
    "elif torch.cuda.is_available():\n",
    "    device = torch.device(\"cuda\")\n",
    "    print(f\"Using CUDA GPU: {torch.cuda.get_device_name(0)}\")\n",
    "else:\n",
    "    device = torch.device(\"cpu\")\n",
    "    print(\"Using CPU\")\n",
    "\n",
    "print(f\"Device: {device}\")\n",
    "\n",
    "# Implement basic ring geometry\n",
    "def create_ring_positions(n_neurons):\n",
    "    \"\"\"Create preferred directions for neurons on a ring\"\"\"\n",
    "    angles = torch.linspace(0, 2*np.pi, n_neurons, dtype=torch.float32)\n",
    "    return angles\n",
    "\n",
    "# Gaussian connectivity kernel\n",
    "def gaussian_kernel(angles1, angles2, sigma):\n",
    "    \"\"\"Compute Gaussian connectivity between neurons\"\"\"\n",
    "    diff = torch.abs(angles1[:, None] - angles2[None, :])\n",
    "    diff = torch.min(diff, 2*np.pi - diff)  # Circular distance\n",
    "    return torch.exp(-diff**2 / (2*sigma**2))"
   ]
  }
 ],
 "metadata": {
  "kernelspec": {
   "display_name": "base",
   "language": "python",
   "name": "python3"
  },
  "language_info": {
   "codemirror_mode": {
    "name": "ipython",
    "version": 3
   },
   "file_extension": ".py",
   "mimetype": "text/x-python",
   "name": "python",
   "nbconvert_exporter": "python",
   "pygments_lexer": "ipython3",
   "version": "3.12.3"
  }
 },
 "nbformat": 4,
 "nbformat_minor": 4
}
